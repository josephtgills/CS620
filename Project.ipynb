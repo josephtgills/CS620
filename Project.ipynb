{
  "nbformat": 4,
  "nbformat_minor": 0,
  "metadata": {
    "colab": {
      "name": "Project.ipynb",
      "provenance": [],
      "collapsed_sections": [],
      "authorship_tag": "ABX9TyMnPCYI6v/092qhurymD8+u",
      "include_colab_link": true
    },
    "kernelspec": {
      "name": "python3",
      "display_name": "Python 3"
    },
    "language_info": {
      "name": "python"
    }
  },
  "cells": [
    {
      "cell_type": "markdown",
      "metadata": {
        "id": "view-in-github",
        "colab_type": "text"
      },
      "source": [
        "<a href=\"https://colab.research.google.com/github/josephtgills/CS620/blob/main/Project.ipynb\" target=\"_parent\"><img src=\"https://colab.research.google.com/assets/colab-badge.svg\" alt=\"Open In Colab\"/></a>"
      ]
    },
    {
      "cell_type": "markdown",
      "metadata": {
        "id": "grqOuOKd2Hbc"
      },
      "source": [
        "# Abstract\n",
        "\n",
        "## Team Members:\n",
        "Name: Joseph Gills <br/>\n",
        "Email: jgill006@odu.edu <br/>\n",
        "Portfolio: https://josephtgills.github.io/ <br/>\n",
        "\n",
        "\n",
        "\n"
      ]
    }
  ]
}